{
 "cells": [
  {
   "cell_type": "code",
   "execution_count": null,
   "metadata": {
    "collapsed": true
   },
   "outputs": [],
   "source": [
    "%matplotlib inline\n",
    "import numpy as np \n",
    "from itafs.infotheory import H, Hc, P\n",
    "\n",
    "import matplotlib.pylab as plt\n",
    "plt.style.use('fivethirtyeight')"
   ]
  },
  {
   "cell_type": "markdown",
   "metadata": {},
   "source": [
    "# Information Theory Module \n",
    "\n",
    "## Entropy"
   ]
  },
  {
   "cell_type": "code",
   "execution_count": null,
   "metadata": {
    "collapsed": false
   },
   "outputs": [],
   "source": [
    "N = 20000\n",
    "delta = np.linspace(0.001, 0.999, 100)\n",
    "entropy = np.zeros((len(delta),))\n",
    "for p,i in zip(delta, range(len(delta))): \n",
    "    # generate X ~ bern(p)\n",
    "    X = np.random.rand(N)\n",
    "    X[X >= p] = 1\n",
    "    X[X != 1] = 0\n",
    "    entropy[i] = H(X)\n",
    "    \n",
    "plt.plot(delta, entropy, color='blue')\n",
    "plt.title('Entropy of a Bernoulli RV')"
   ]
  },
  {
   "cell_type": "code",
   "execution_count": null,
   "metadata": {
    "collapsed": false
   },
   "outputs": [],
   "source": [
    "N = 20000\n",
    "delta = np.linspace(0.01, 0.99, 100)\n",
    "entropy = np.zeros((len(delta),))\n",
    "for p,i in zip(delta, range(len(delta))): \n",
    "    # generate X ~ bern(p)\n",
    "    X = np.random.rand(N)\n",
    "    X[X >= p] = 1\n",
    "    X[X != 1] = 0\n",
    "    Y = np.random.rand(N)\n",
    "    Y[Y >= p] = 1\n",
    "    Y[Y != 1] = 0\n",
    "    entropy[i] = Hc(X, Y)\n",
    "    \n",
    "plt.plot(delta, entropy, color='blue')\n",
    "plt.title('Entropy of two Bernoulli RV') # for indep. these should plots should be the same"
   ]
  },
  {
   "cell_type": "markdown",
   "metadata": {},
   "source": [
    "## Probability Calulations \n",
    "### Basic probability"
   ]
  },
  {
   "cell_type": "code",
   "execution_count": null,
   "metadata": {
    "collapsed": false
   },
   "outputs": [],
   "source": [
    "N = 10000\n",
    "X = np.random.rand(N)\n",
    "X = np.random.rand(N)\n",
    "X[X >= .4] = 1\n",
    "X[X != 1] = 0\n",
    "print(P(X))"
   ]
  },
  {
   "cell_type": "markdown",
   "metadata": {},
   "source": [
    "### Conditional Probability "
   ]
  },
  {
   "cell_type": "code",
   "execution_count": null,
   "metadata": {
    "collapsed": false
   },
   "outputs": [],
   "source": [
    "X = np.random.randint(1,4,50)\n",
    "Y = np.random.randint(1,5,50)\n",
    "probs = np.zeros((5,))\n",
    "\n",
    "# normalization property \n",
    "for y,n in zip(np.unique(Y), range(len(np.unique(Y)))):\n",
    "    Xs = X[np.where(Y==y)]\n",
    "    print(np.sum(P(Xs)))  # SUM_X(P(X|Y))\n",
    "    \n",
    "# normalization property \n",
    "for y,n in zip(np.unique(Y), range(len(np.unique(Y)))):\n",
    "    print(np.sum(P(X, Y, y)))  # SUM_X(P(X|Y))"
   ]
  },
  {
   "cell_type": "code",
   "execution_count": null,
   "metadata": {
    "collapsed": false
   },
   "outputs": [],
   "source": [
    "X,Y"
   ]
  },
  {
   "cell_type": "code",
   "execution_count": null,
   "metadata": {
    "collapsed": false
   },
   "outputs": [],
   "source": [
    "np.sum(1.*(X==2) * (Y==1))"
   ]
  },
  {
   "cell_type": "code",
   "execution_count": null,
   "metadata": {
    "collapsed": false
   },
   "outputs": [],
   "source": [
    "(X==2) * (Y==1)"
   ]
  },
  {
   "cell_type": "code",
   "execution_count": null,
   "metadata": {
    "collapsed": true
   },
   "outputs": [],
   "source": []
  }
 ],
 "metadata": {
  "kernelspec": {
   "display_name": "Python 3",
   "language": "python",
   "name": "python3"
  },
  "language_info": {
   "codemirror_mode": {
    "name": "ipython",
    "version": 3
   },
   "file_extension": ".py",
   "mimetype": "text/x-python",
   "name": "python",
   "nbconvert_exporter": "python",
   "pygments_lexer": "ipython3",
   "version": "3.6.0"
  }
 },
 "nbformat": 4,
 "nbformat_minor": 2
}
